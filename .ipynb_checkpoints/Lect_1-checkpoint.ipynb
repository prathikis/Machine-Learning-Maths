{
 "cells": [
  {
   "cell_type": "markdown",
   "id": "0a3cc12c-d951-4dd6-885c-cb8bbfb486f6",
   "metadata": {},
   "source": [
    "## Question 1"
   ]
  },
  {
   "cell_type": "markdown",
   "id": "8a9c4d91-106a-4ce7-b5e5-2a0202494292",
   "metadata": {},
   "source": [
    "A bank robber drives away from a bank at a constant speed of 150 km/h, and gets a 5-minute head start.\n",
    "A sheriff starts chasing the robber 5 minutes later, driving at 180 km/h.\n",
    "\n",
    "At what time (in minutes) does the sheriff catch the robber?\n",
    "\n",
    "What is the distance (in kilometers) from the bank when the sheriff catches up?\n",
    "\n",
    "Plot the distance vs time graph for both the robber and the sheriff, and mark the catch-up point on the graph."
   ]
  },
  {
   "cell_type": "code",
   "execution_count": null,
   "id": "bb42ab3a-90a8-4701-97eb-07fd3639a87a",
   "metadata": {},
   "outputs": [],
   "source": [
    "t = np.linspace(0, 40, 1000)  #start,end,no of points\n",
    "d_s = 3*(t-5)\n",
    "dr = 2.5*t\n",
    "fig,ax = plt.subplots()\n",
    "plt.title(\"Time Of Caught\")\n",
    "plt.xlabel('time in mins')\n",
    "plt.ylabel('dist in kms')\n",
    "ax.set_xlim([0,40])\n",
    "ax.set_ylim([0,100])\n",
    "ax.plot(t,d_r,c='red')\n",
    "ax.plot(t,d_s,c='blue')\n",
    "plt.axvline(x=30,color='green',linestyle='--')\n",
    "plt.axhline(y=75,color='green',linestyle='--')\n",
    "c_diff = np.abs(d_r - d_s)\n",
    "i = np.argmin(c_diff)\n",
    "c_d = np.round(d_r[i])\n",
    "c_t = np.round(t[i])\n",
    "plt.plot(caught_time, caught_dist, 'ro')\n",
    "plt.text(c_t - 17, c_d + 3, f'Caught at {c_d:.0f} kms at {c_t:.0f} mins', color='red')"
   ]
  },
  {
   "cell_type": "markdown",
   "id": "b1fb5b66-4604-4839-967f-c87e3083071e",
   "metadata": {},
   "source": [
    "## Question 2"
   ]
  },
  {
   "cell_type": "markdown",
   "id": "1761923c-d0f4-4a3b-bc58-59d48c2906ea",
   "metadata": {},
   "source": [
    "Jill designs solar panels as a hobby.\n",
    "\n",
    "On April 1st, her \"Mark I\" solar panel starts generating energy at a rate of 1 kJ per day.\n",
    "\n",
    "On May 1st, her \"Mark II\" solar panel starts generating energy at a rate of 4 kJ per day.\n",
    "\n",
    "Assuming both panels generate power linearly with time:\n",
    "\n",
    "On what day after May 1st will the total energy produced by Mark II equal that of Mark I?\n",
    "\n",
    "What is the total energy both panels have produced by that point?\n",
    "\n",
    "Plot both energy outputs on a graph (day vs energy), and show the point where Mark II catches up with Mark I."
   ]
  },
  {
   "cell_type": "code",
   "execution_count": null,
   "id": "8e83b2b8-e3fa-416f-b438-ab2aaff05ada",
   "metadata": {},
   "outputs": [],
   "source": [
    "import numpy as np\n",
    "import matplotlib.pyplot as plt\n",
    "\n",
    "# Constants\n",
    "r1 = 1   # Rate for Mark I (kJ/day)\n",
    "r2 = 4   # Rate for Mark II (kJ/day)\n",
    "d_gap = 30  # Days between Apr 1 and May 1\n",
    "\n",
    "# Time axis (0 = May 1)\n",
    "x = np.arange(0, 61)  # simulate 60 days after May 1\n",
    "\n",
    "# Energy equations\n",
    "e1 = r1 * (d_gap + x)  # Mark I total energy\n",
    "e2 = r2 * x            # Mark II total energy\n",
    "\n",
    "# Catch-up day\n",
    "diff = np.abs(e1 - e2)\n",
    "ix = np.argmin(diff)\n",
    "day_catch = x[ix]\n",
    "date_catch = f\"May {1 + day_catch}\"\n",
    "\n",
    "# Total energy on catch day\n",
    "t1 = e1[ix]\n",
    "t2 = e2[ix]\n",
    "t_total = t1 + t2\n",
    "\n",
    "# Plotting\n",
    "fig, ax = plt.subplots()\n",
    "ax.plot(x, e1, label='Mark I', color='blue')\n",
    "ax.plot(x, e2, label='Mark II', color='green')\n",
    "ax.axvline(day_catch, linestyle='--', color='brown')\n",
    "ax.axhline(t1, linestyle='--', color='brown')\n",
    "ax.text(day_catch - 5, t1 + 5, f'Equal on {date_catch}', color='red')\n",
    "ax.set_xlabel('Days after May 1')\n",
    "ax.set_ylabel('Energy (kJ)')\n",
    "ax.set_title('Energy Generation: Mark I vs Mark II')\n",
    "ax.legend()\n",
    "plt.grid(True)\n",
    "plt.show()\n",
    "\n",
    "# Output results\n",
    "print(f\"1. Mark II catches up on: {date_catch}\")\n",
    "print(f\"2. Energy by each on that day: {t1} kJ\")\n",
    "print(f\"3. Total energy: {t_total} kJ\")\n"
   ]
  }
 ],
 "metadata": {
  "kernelspec": {
   "display_name": "Python 3 (ipykernel)",
   "language": "python",
   "name": "python3"
  },
  "language_info": {
   "codemirror_mode": {
    "name": "ipython",
    "version": 3
   },
   "file_extension": ".py",
   "mimetype": "text/x-python",
   "name": "python",
   "nbconvert_exporter": "python",
   "pygments_lexer": "ipython3",
   "version": "3.13.1"
  }
 },
 "nbformat": 4,
 "nbformat_minor": 5
}
